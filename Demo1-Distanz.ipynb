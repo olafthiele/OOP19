{
 "cells": [
  {
   "cell_type": "code",
   "execution_count": 4,
   "metadata": {},
   "outputs": [
    {
     "name": "stdout",
     "output_type": "stream",
     "text": [
      "3.6.0\n"
     ]
    }
   ],
   "source": [
    "import gensim\n",
    "\n",
    "print(gensim.__version__)\n",
    "\n",
    "# Modell mit Top 5000 deutschen Worten laden\n",
    "model = gensim.models.KeyedVectors.load_word2vec_format(\"min5000.model\", binary=True)"
   ]
  },
  {
   "cell_type": "code",
   "execution_count": 18,
   "metadata": {},
   "outputs": [
    {
     "name": "stderr",
     "output_type": "stream",
     "text": [
      "C:\\ProgramData\\Anaconda3\\lib\\site-packages\\gensim\\matutils.py:737: FutureWarning: Conversion of the second argument of issubdtype from `int` to `np.signedinteger` is deprecated. In future, it will be treated as `np.int32 == np.dtype(int).type`.\n",
      "  if np.issubdtype(vec.dtype, np.int):\n"
     ]
    },
    {
     "data": {
      "text/plain": [
       "[('Muenchner', 0.7908819913864136),\n",
       " ('Augsburg', 0.7286888360977173),\n",
       " ('Nuernberg', 0.7239000797271729),\n",
       " ('FC_Bayern', 0.7078144550323486),\n",
       " ('Dortmund', 0.7041417360305786),\n",
       " ('Bayern', 0.6823953986167908),\n",
       " ('Hamburg', 0.6818069219589233),\n",
       " ('Duesseldorf', 0.6732111573219299),\n",
       " ('Stuttgart', 0.6708148717880249),\n",
       " ('Regensburg', 0.6612198352813721)]"
      ]
     },
     "execution_count": 18,
     "metadata": {},
     "output_type": "execute_result"
    }
   ],
   "source": [
    "matches = model.most_similar(positive=[\"Muenchen\"], negative=None, topn=10)\n",
    "\n",
    "matches"
   ]
  },
  {
   "cell_type": "code",
   "execution_count": 16,
   "metadata": {},
   "outputs": [
    {
     "name": "stderr",
     "output_type": "stream",
     "text": [
      "C:\\ProgramData\\Anaconda3\\lib\\site-packages\\gensim\\matutils.py:737: FutureWarning: Conversion of the second argument of issubdtype from `int` to `np.signedinteger` is deprecated. In future, it will be treated as `np.int32 == np.dtype(int).type`.\n",
      "  if np.issubdtype(vec.dtype, np.int):\n"
     ]
    },
    {
     "data": {
      "text/plain": [
       "[('Niedersachsen', 0.7528911828994751),\n",
       " ('Hessen', 0.6565377712249756),\n",
       " ('Braunschweig', 0.6402816772460938),\n",
       " ('Bremen', 0.6086529493331909),\n",
       " ('Schleswig-Holstein', 0.5892189741134644),\n",
       " ('Sachsen', 0.585659384727478),\n",
       " ('Baden-Wuerttemberg', 0.567304253578186),\n",
       " ('Nordrhein-Westfalen', 0.5669426918029785),\n",
       " ('Sachsen-Anhalt', 0.5653688907623291),\n",
       " ('Wolfsburg', 0.5581339001655579)]"
      ]
     },
     "execution_count": 16,
     "metadata": {},
     "output_type": "execute_result"
    }
   ],
   "source": [
    "# Muenchen zu Bayern\n",
    "# Hannover zu ???\n",
    "\n",
    "matches = model.most_similar(positive=[\"Hannover\", \"Bayern\"], negative=[\"Muenchen\"], topn=10)\n",
    "\n",
    "matches"
   ]
  },
  {
   "cell_type": "code",
   "execution_count": null,
   "metadata": {
    "collapsed": true
   },
   "outputs": [],
   "source": []
  }
 ],
 "metadata": {
  "kernelspec": {
   "display_name": "Python 3",
   "language": "python",
   "name": "python3"
  },
  "language_info": {
   "codemirror_mode": {
    "name": "ipython",
    "version": 3
   },
   "file_extension": ".py",
   "mimetype": "text/x-python",
   "name": "python",
   "nbconvert_exporter": "python",
   "pygments_lexer": "ipython3",
   "version": "3.6.3"
  }
 },
 "nbformat": 4,
 "nbformat_minor": 2
}
